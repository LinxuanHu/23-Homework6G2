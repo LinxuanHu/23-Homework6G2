{
  "nbformat": 4,
  "nbformat_minor": 0,
  "metadata": {
    "colab": {
      "provenance": [],
      "authorship_tag": "ABX9TyPY8w6r+TRtpooIQ2b3KDCh",
      "include_colab_link": true
    },
    "kernelspec": {
      "name": "python3",
      "display_name": "Python 3"
    },
    "language_info": {
      "name": "python"
    }
  },
  "cells": [
    {
      "cell_type": "markdown",
      "metadata": {
        "id": "view-in-github",
        "colab_type": "text"
      },
      "source": [
        "<a href=\"https://colab.research.google.com/github/tirthbha/23-Homework6G2/blob/task2_tirthbha_version/task2_tirthbha.ipynb\" target=\"_parent\"><img src=\"https://colab.research.google.com/assets/colab-badge.svg\" alt=\"Open In Colab\"/></a>"
      ]
    },
    {
      "cell_type": "code",
      "source": [
        "import numpy as np\n",
        "from calculus_trithbha_version import bisection_method, newton_raphson_method, calculate_accuracy\n",
        "\n",
        "# Function definitions and their derivatives\n",
        "def tan_func(x):\n",
        "    \"\"\"\n",
        "    Tangent function.\n",
        "    Computes the tangent of x, where x is given in radians.\n",
        "    \"\"\"\n",
        "    return np.tan(x)\n",
        "\n",
        "def tanh_func(x):\n",
        "    \"\"\"\n",
        "    Hyperbolic tangent function.\n",
        "    Computes the hyperbolic tangent of x.\n",
        "    \"\"\"\n",
        "    return np.tanh(x)\n",
        "\n",
        "def d_tan_func(x):\n",
        "    \"\"\"\n",
        "    Derivative of the tangent function.\n",
        "    The derivative of tan(x) is sec^2(x), which is equivalent to 1/cos(x)^2.\n",
        "    \"\"\"\n",
        "    return 1 / np.cos(x)**2\n",
        "\n",
        "def d_tanh_func(x):\n",
        "    \"\"\"\n",
        "    Derivative of the hyperbolic tangent function.\n",
        "    The derivative of tanh(x) is 1 - tanh(x)^2.\n",
        "    \"\"\"\n",
        "    return 1 - np.tanh(x)**2\n",
        "\n",
        "\n",
        "# Finding roots for tan and tanh functions with iteration tracking\n",
        "root_tan_bisect, iter_tan_bisect = bisection_method_mod(tan_func, np.pi/4, 3*np.pi/4)\n",
        "root_tan_newton, iter_tan_newton = newton_raphson_method_mod(tan_func, d_tan_func, (np.pi/4 + 3*np.pi/4) / 2)\n",
        "\n",
        "root_tanh_bisect, iter_tanh_bisect = bisection_method_mod(tanh_func, -2, 2)\n",
        "root_tanh_newton, iter_tanh_newton = newton_raphson_method_mod(tanh_func, d_tanh_func, 0.2)\n",
        "\n",
        "# Calculate accuracies of the obtained roots\n",
        "accuracy_tan_bisect = calculate_accuracy(np.pi/2, root_tan_bisect, 1e-6)\n",
        "accuracy_tan_newton = calculate_accuracy(np.pi/2, root_tan_newton, 1e-6)\n",
        "accuracy_tanh_bisect = calculate_accuracy(0, root_tanh_bisect, 1e-6)\n",
        "accuracy_tanh_newton = calculate_accuracy(0, root_tanh_newton, 1e-6)\n",
        "\n",
        "# Print the results in an attractive format\n",
        "print(\"Root Finding Results:\\n\" + \"-\" * 30)\n",
        "\n",
        "# Displaying results for tan function\n",
        "print(\"Tan Function:\")\n",
        "print(f\"  Bisection Method: Root = {root_tan_bisect}, Iterations = {iter_tan_bisect}, Accuracy = {accuracy_tan_bisect:.2f} \")\n",
        "print(f\"  Newton-Raphson Method: Root = {root_tan_newton}, Iterations = {iter_tan_newton}, Accuracy = {accuracy_tan_newton:.2f} \")\n",
        "\n",
        "# Displaying results for tanh function\n",
        "print(\"\\nTanh Function:\")\n",
        "print(f\"  Bisection Method: Root = {root_tanh_bisect}, Iterations = {iter_tanh_bisect}, Accuracy = {accuracy_tanh_bisect:.2f} \")\n",
        "print(f\"  Newton-Raphson Method: Root = {root_tanh_newton}, Iterations = {iter_tanh_newton}, Accuracy = {accuracy_tanh_newton:.2f} \")\n"
      ],
      "metadata": {
        "colab": {
          "base_uri": "https://localhost:8080/"
        },
        "id": "okwFQba7yA58",
        "outputId": "72ea658c-4c82-4d6e-c5a5-30afed6fc68a"
      },
      "execution_count": 41,
      "outputs": [
        {
          "output_type": "stream",
          "name": "stdout",
          "text": [
            "Root Finding Results:\n",
            "------------------------------\n",
            "Tan Function:\n",
            "  Bisection Method: Root = 1.5707963267948966, Iterations = 100, Accuracy = inf \n",
            "  Newton-Raphson Method: Root = 1.5707963267948966, Iterations = 100, Accuracy = inf \n",
            "\n",
            "Tanh Function:\n",
            "  Bisection Method: Root = 0.0, Iterations = 1, Accuracy = inf \n",
            "  Newton-Raphson Method: Root = 1.0359254684708802e-07, Iterations = 2, Accuracy = 6.98 \n"
          ]
        }
      ]
    },
    {
      "cell_type": "code",
      "source": [],
      "metadata": {
        "id": "7I0ZHMUvC1Gg"
      },
      "execution_count": null,
      "outputs": []
    }
  ]
}